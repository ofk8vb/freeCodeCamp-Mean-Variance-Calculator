{
 "cells": [
  {
   "cell_type": "code",
   "execution_count": null,
   "metadata": {},
   "outputs": [],
   "source": [
    "# Output format should look like below \n",
    "# {\n",
    "#   'mean': [axis1, axis2, flattened],\n",
    "#   'variance': [axis1, axis2, flattened],\n",
    "#   'standard deviation': [axis1, axis2, flattened],\n",
    "#   'max': [axis1, axis2, flattened],\n",
    "#   'min': [axis1, axis2, flattened],\n",
    "#   'sum': [axis1, axis2, flattened]\n",
    "# }\n",
    "\n",
    "# If a list containing less than 9 elements is passed into the function, it should raise a ValueError exception with the message: \n",
    "# \"List must contain nine numbers.\" \n",
    "# The values in the returned dictionary should be lists and not Numpy arrays.\n",
    "\n",
    "# For example, calculate([0,1,2,3,4,5,6,7,8]) should return:\n",
    "\n",
    "# {\n",
    "#   'mean': [[3.0, 4.0, 5.0], [1.0, 4.0, 7.0], 4.0], \n",
    "#   'variance': [[6.0, 6.0, 6.0], [0.6666666666666666, 0.6666666666666666, 0.6666666666666666], 6.666666666666667], \n",
    "#   'standard deviation': [[2.449489742783178, 2.449489742783178, 2.449489742783178], [0.816496580927726, 0.816496580927726, 0.816496580927726], 2.581988897471611],\n",
    "#   'max': [[6, 7, 8], [2, 5, 8], 8],\n",
    "#   'min': [[0, 1, 2], [0, 3, 6], 0],\n",
    "#   'sum': [[9, 12, 15], [3, 12, 21], 36]\n",
    "# }"
   ]
  },
  {
   "cell_type": "code",
   "execution_count": 36,
   "metadata": {},
   "outputs": [],
   "source": [
    "# once 3 row icin islemler, sonra 3 column icin sonra tamamini kapsicak sekilde duz listeymis gibi\n",
    "import numpy as np\n",
    "\n",
    "def calculate(arglist):\n",
    "# uses Numpy to output the mean, variance, standard deviation, max, min, and sum of the rows, columns, and elements \n",
    "# in a 3 x 3 matrix.\n",
    "    if len(arglist)>9:\n",
    "        raise ValueError(\"List must contain nine numbers.\")\n",
    "   \n",
    "\n",
    "# The function should convert the list into a 3 x 3 Numpy array, and then return a dictionary \n",
    "# containing the mean, variance, standard deviation, max, min, and sum along both axes and for the flattened matrix.\n",
    "    calculations=dict()\n",
    "    numpy_array = np.array(arglist).reshape(3,3)\n",
    "    cols = np.array([numpy_array[0],numpy_array[1],numpy_array[2]])\n",
    "    print(cols)\n",
    "    rows = np.array([[numpy_array[0][0],numpy_array[1][0],numpy_array[2][0]],[numpy_array[0][1],numpy_array[1][1],numpy_array[2][1]],[numpy_array[0][2],numpy_array[1][2],numpy_array[2][2]]])\n",
    "    print(rows)\n",
    "    calculations['mean']=[[rows[0].mean(),rows[1].mean(),rows[2].mean()],[cols[0].mean(),cols[1].mean(),cols[2].mean()],numpy_array.mean()]\n",
    "    calculations['standard deviation']=[[rows[0].std(),rows[1].std(),rows[2].std()],[cols[0].std(),cols[1].std(),cols[2].std()],numpy_array.std()]\n",
    "    # doing with list comprehension \n",
    "    calculations['variance']=[[np.var(row) for row in rows],[np.var(col) for col in cols],np.var(arglist)]\n",
    "    calculations['min']=[[min(row) for row in rows],[min(col) for col in cols],min(arglist)]\n",
    "    calculations['max']=[[max(row) for row in rows],[max(col) for col in cols],max(arglist)]\n",
    "    calculations['sum']=[[sum(row) for row in rows],[max(col) for col in cols],sum(arglist)]\n",
    "    \n",
    "    return calculations"
   ]
  },
  {
   "cell_type": "code",
   "execution_count": 37,
   "metadata": {},
   "outputs": [
    {
     "name": "stdout",
     "output_type": "stream",
     "text": [
      "[[0 1 2]\n",
      " [3 4 5]\n",
      " [6 7 8]]\n"
     ]
    }
   ],
   "source": [
    "import numpy as np\n",
    "listArg = [0,1,2,3,4,5,6,7,8]\n",
    "numpy_array = np.array(listArg).reshape(3,3)\n",
    "print(numpy_array)"
   ]
  },
  {
   "cell_type": "code",
   "execution_count": 38,
   "metadata": {},
   "outputs": [
    {
     "name": "stdout",
     "output_type": "stream",
     "text": [
      "[[0 1 2]\n",
      " [3 4 5]\n",
      " [6 7 8]]\n",
      "[[0 3 6]\n",
      " [1 4 7]\n",
      " [2 5 8]]\n",
      "{'mean': [[3.0, 4.0, 5.0], [1.0, 4.0, 7.0], 4.0], 'standard deviation': [[2.449489742783178, 2.449489742783178, 2.449489742783178], [0.816496580927726, 0.816496580927726, 0.816496580927726], 2.581988897471611], 'variance': [[6.0, 6.0, 6.0], [0.6666666666666666, 0.6666666666666666, 0.6666666666666666], 6.666666666666667], 'min': [[0, 1, 2], [0, 3, 6], 0], 'max': [[6, 7, 8], [2, 5, 8], 8], 'sum': [[9, 12, 15], [2, 5, 8], 36]}\n"
     ]
    }
   ],
   "source": [
    "thereturn = calculate([0,1,2,3,4,5,6,7,8])\n",
    "print(thereturn)"
   ]
  },
  {
   "cell_type": "code",
   "execution_count": null,
   "metadata": {},
   "outputs": [],
   "source": []
  }
 ],
 "metadata": {
  "kernelspec": {
   "display_name": "Python 3",
   "language": "python",
   "name": "python3"
  },
  "language_info": {
   "codemirror_mode": {
    "name": "ipython",
    "version": 3
   },
   "file_extension": ".py",
   "mimetype": "text/x-python",
   "name": "python",
   "nbconvert_exporter": "python",
   "pygments_lexer": "ipython3",
   "version": "3.8.5"
  }
 },
 "nbformat": 4,
 "nbformat_minor": 4
}
